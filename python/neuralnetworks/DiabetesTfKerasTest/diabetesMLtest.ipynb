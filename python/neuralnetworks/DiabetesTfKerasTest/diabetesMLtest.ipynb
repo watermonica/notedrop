{
  "nbformat": 4,
  "nbformat_minor": 0,
  "metadata": {
    "colab": {
      "name": "diabetesMLtest.ipynb",
      "provenance": [],
      "collapsed_sections": []
    },
    "kernelspec": {
      "name": "python3",
      "display_name": "Python 3"
    },
    "language_info": {
      "name": "python"
    }
  },
  "cells": [
    {
      "cell_type": "code",
      "execution_count": 131,
      "metadata": {
        "id": "GsvGC1uKGuAc"
      },
      "outputs": [],
      "source": [
        "import numpy as np\n",
        "import pandas as pd\n",
        "import matplotlib.pyplot as plt\n",
        "\n",
        "import tensorflow as tf\n",
        "import tensorflow_hub as hub\n",
        "\n",
        "from sklearn.preprocessing import StandardScaler\n",
        "from sklearn.model_selection import train_test_split\n",
        "\n",
        "from imblearn.over_sampling import RandomOverSampler"
      ]
    },
    {
      "cell_type": "code",
      "source": [
        "df = pd.read_csv(\"diabetes.csv\")\n",
        "df.head() #see dataFrame"
      ],
      "metadata": {
        "id": "jLP2viwtHKcs"
      },
      "execution_count": null,
      "outputs": []
    },
    {
      "cell_type": "code",
      "source": [
        "df[df['Outcome'] == 0] #all outcomes that = 0 (Diabetes Negative)"
      ],
      "metadata": {
        "id": "z3eJXxKfIbUf"
      },
      "execution_count": null,
      "outputs": []
    },
    {
      "cell_type": "code",
      "source": [
        "df[df['Outcome'] == 1] #all outcomes that = 1 (Diabetes Positive)"
      ],
      "metadata": {
        "id": "hHLk4OthIn59"
      },
      "execution_count": null,
      "outputs": []
    },
    {
      "cell_type": "code",
      "source": [
        "for i in range(len(df.columns[:-1])): #display data for each column in data\n",
        "  label = df.columns[i]\n",
        "  plt.hist(df[df['Outcome'] == 1][label], color = 'blue', label = 'Diabetes Pos', alpha = 0.7, density = True, bins = 15)\n",
        "  plt.hist(df[df['Outcome'] == 0][label], color = 'red', label = 'Diabetes Neg', alpha = 0.7, density = True, bins = 15) #alpha makes it easier to see variations\n",
        "  plt.title(label)\n",
        "  plt.ylabel('Probability')\n",
        "  plt.xlabel(label)\n",
        "  plt.legend()\n",
        "  plt.show()\n"
      ],
      "metadata": {
        "id": "A2CTpL3tHsCq"
      },
      "execution_count": null,
      "outputs": []
    },
    {
      "cell_type": "code",
      "source": [
        "print(\"Diabetes Negative: {}\".format(len(df[df['Outcome'] == 0])))\n",
        "print(\"Diabetes Positive: {}\".format(len(df[df['Outcome'] == 1])))"
      ],
      "metadata": {
        "colab": {
          "base_uri": "https://localhost:8080/"
        },
        "id": "6HSo0H98KFfx",
        "outputId": "82c0dbfe-a41e-4113-fa4c-56b0cc419203"
      },
      "execution_count": 60,
      "outputs": [
        {
          "output_type": "stream",
          "name": "stdout",
          "text": [
            "Diabetes Negative: 500\n",
            "Diabetes Positive: 268\n"
          ]
        }
      ]
    },
    {
      "cell_type": "code",
      "source": [
        "x = df[df.columns[:-1]].values\n",
        "y = df[df.columns[-1]].values"
      ],
      "metadata": {
        "id": "aHblZ0gxKnAz"
      },
      "execution_count": 138,
      "outputs": []
    },
    {
      "cell_type": "code",
      "source": [
        "scalar = StandardScaler()\n",
        "x = scalar.fit_transform(x)\n",
        "data = np.hstack((x, np.reshape(y, (-1, 1))))\n",
        "transformed_df = pd.DataFrame(data, columns=df.columns)"
      ],
      "metadata": {
        "id": "dxbMgbBvTgMv"
      },
      "execution_count": 142,
      "outputs": []
    },
    {
      "cell_type": "code",
      "source": [
        "over = RandomOverSampler() #balances dataset\n",
        "x, y = over.fit_resample(x,y)\n",
        "data = np.hstack((x, np.reshape(y, (-1, 1))))\n",
        "transformed_df = pd.DataFrame(data, columns=df.columns)"
      ],
      "metadata": {
        "id": "hGusslO7U-b_"
      },
      "execution_count": 145,
      "outputs": []
    },
    {
      "cell_type": "code",
      "source": [
        "len(transformed_df[transformed_df['Outcome'] == 1]), len(transformed_df[transformed_df['Outcome'] == 0])"
      ],
      "metadata": {
        "colab": {
          "base_uri": "https://localhost:8080/"
        },
        "id": "2v0VocqqVKe2",
        "outputId": "a44c6e9e-bbc4-41f0-d2af-1e5734f35f50"
      },
      "execution_count": 146,
      "outputs": [
        {
          "output_type": "execute_result",
          "data": {
            "text/plain": [
              "(500, 500)"
            ]
          },
          "metadata": {},
          "execution_count": 146
        }
      ]
    },
    {
      "cell_type": "code",
      "source": [
        "x_train, x_temp, y_train, y_temp = train_test_split(x, y, test_size=0.4, random_state = 0) #0.4 = 40% of dataset\n",
        "x_valid, x_test, y_valid, y_test = train_test_split(x_temp, y_temp, test_size=0.5, random_state=0) #0.5 = 50% of 40% of dataset"
      ],
      "metadata": {
        "id": "i4klOlbkM8QP"
      },
      "execution_count": 147,
      "outputs": []
    },
    {
      "cell_type": "code",
      "source": [
        "model = tf.keras.Sequential([\n",
        "                              tf.keras.layers.Dense(16, activation='relu'), #Dense, each neuron per layer recieves all previous neuron data from prev layer\n",
        "                              tf.keras.layers.Dense(16, activation='relu'),\n",
        "                              tf.keras.layers.Dense(1, activation=\"sigmoid\")\n",
        "])"
      ],
      "metadata": {
        "id": "uDQjI6g2OlcH"
      },
      "execution_count": 148,
      "outputs": []
    },
    {
      "cell_type": "code",
      "source": [
        "model.compile(\n",
        "              optimizer=tf.keras.optimizers.Adam(learning_rate=0.001),\n",
        "              loss=tf.keras.losses.BinaryCrossentropy(from_logits=True),\n",
        "              metrics=['accuracy']\n",
        ")"
      ],
      "metadata": {
        "id": "tWEtcTaSPnL8"
      },
      "execution_count": 149,
      "outputs": []
    },
    {
      "cell_type": "code",
      "source": [
        "model.evaluate(x, y)"
      ],
      "metadata": {
        "colab": {
          "base_uri": "https://localhost:8080/"
        },
        "id": "r7yvgtsbQC88",
        "outputId": "3df02e2e-7f3b-44f7-cc59-3e900ab2e6c6"
      },
      "execution_count": 150,
      "outputs": [
        {
          "output_type": "stream",
          "name": "stdout",
          "text": [
            "\r 1/32 [..............................] - ETA: 7s - loss: 0.7108 - accuracy: 0.5312"
          ]
        },
        {
          "output_type": "stream",
          "name": "stderr",
          "text": [
            "/usr/local/lib/python3.7/dist-packages/tensorflow/python/util/dispatch.py:1082: UserWarning: \"`binary_crossentropy` received `from_logits=True`, but the `output` argument was produced by a sigmoid or softmax activation and thus does not represent logits. Was this intended?\"\n",
            "  return dispatch_target(*args, **kwargs)\n"
          ]
        },
        {
          "output_type": "stream",
          "name": "stdout",
          "text": [
            "\b\b\b\b\b\b\b\b\b\b\b\b\b\b\b\b\b\b\b\b\b\b\b\b\b\b\b\b\b\b\b\b\b\b\b\b\b\b\b\b\b\b\b\b\b\b\b\b\b\b\b\b\b\b\b\b\b\b\b\b\b\b\b\b\b\b\b\b\b\b\b\b\b\b\b\b\b\b\b\b\b\b\r32/32 [==============================] - 0s 2ms/step - loss: 0.6796 - accuracy: 0.5690\n"
          ]
        },
        {
          "output_type": "execute_result",
          "data": {
            "text/plain": [
              "[0.6795917749404907, 0.5690000057220459]"
            ]
          },
          "metadata": {},
          "execution_count": 150
        }
      ]
    },
    {
      "cell_type": "code",
      "source": [
        "model.evaluate(x_train, y_train)"
      ],
      "metadata": {
        "colab": {
          "base_uri": "https://localhost:8080/"
        },
        "id": "4qkeHNxNQ6s7",
        "outputId": "7a41fa04-0c6a-43dc-8bec-2033be42e366"
      },
      "execution_count": 151,
      "outputs": [
        {
          "output_type": "stream",
          "name": "stdout",
          "text": [
            "19/19 [==============================] - 0s 2ms/step - loss: 0.6835 - accuracy: 0.5667\n"
          ]
        },
        {
          "output_type": "execute_result",
          "data": {
            "text/plain": [
              "[0.6835008859634399, 0.5666666626930237]"
            ]
          },
          "metadata": {},
          "execution_count": 151
        }
      ]
    },
    {
      "cell_type": "code",
      "source": [
        "model.evaluate(x_valid, y_valid)"
      ],
      "metadata": {
        "colab": {
          "base_uri": "https://localhost:8080/"
        },
        "id": "EeVX6RWjSq6i",
        "outputId": "6f7cb797-e959-4800-a5ea-7fe51d117fd2"
      },
      "execution_count": 152,
      "outputs": [
        {
          "output_type": "stream",
          "name": "stdout",
          "text": [
            "7/7 [==============================] - 0s 2ms/step - loss: 0.6659 - accuracy: 0.5950\n"
          ]
        },
        {
          "output_type": "execute_result",
          "data": {
            "text/plain": [
              "[0.6659496426582336, 0.5950000286102295]"
            ]
          },
          "metadata": {},
          "execution_count": 152
        }
      ]
    },
    {
      "cell_type": "code",
      "source": [
        "model.fit(x_train, y_train, batch_size=16, epochs=20, validation_data=(x_valid, y_valid))"
      ],
      "metadata": {
        "colab": {
          "base_uri": "https://localhost:8080/"
        },
        "id": "vKBE8zh_Sxkx",
        "outputId": "e54672cd-4f7a-493e-e77c-63754d954b99"
      },
      "execution_count": 153,
      "outputs": [
        {
          "output_type": "stream",
          "name": "stdout",
          "text": [
            "Epoch 1/20\n"
          ]
        },
        {
          "output_type": "stream",
          "name": "stderr",
          "text": [
            "/usr/local/lib/python3.7/dist-packages/tensorflow/python/util/dispatch.py:1082: UserWarning: \"`binary_crossentropy` received `from_logits=True`, but the `output` argument was produced by a sigmoid or softmax activation and thus does not represent logits. Was this intended?\"\n",
            "  return dispatch_target(*args, **kwargs)\n"
          ]
        },
        {
          "output_type": "stream",
          "name": "stdout",
          "text": [
            "38/38 [==============================] - 1s 3ms/step - loss: 0.6453 - accuracy: 0.6250 - val_loss: 0.6078 - val_accuracy: 0.7000\n",
            "Epoch 2/20\n",
            "38/38 [==============================] - 0s 3ms/step - loss: 0.5889 - accuracy: 0.6933 - val_loss: 0.5654 - val_accuracy: 0.7150\n",
            "Epoch 3/20\n",
            "38/38 [==============================] - 0s 3ms/step - loss: 0.5542 - accuracy: 0.7300 - val_loss: 0.5342 - val_accuracy: 0.7200\n",
            "Epoch 4/20\n",
            "38/38 [==============================] - 0s 3ms/step - loss: 0.5305 - accuracy: 0.7333 - val_loss: 0.5101 - val_accuracy: 0.7300\n",
            "Epoch 5/20\n",
            "38/38 [==============================] - 0s 3ms/step - loss: 0.5135 - accuracy: 0.7367 - val_loss: 0.4969 - val_accuracy: 0.7450\n",
            "Epoch 6/20\n",
            "38/38 [==============================] - 0s 3ms/step - loss: 0.5023 - accuracy: 0.7400 - val_loss: 0.4867 - val_accuracy: 0.7500\n",
            "Epoch 7/20\n",
            "38/38 [==============================] - 0s 3ms/step - loss: 0.4926 - accuracy: 0.7483 - val_loss: 0.4794 - val_accuracy: 0.7700\n",
            "Epoch 8/20\n",
            "38/38 [==============================] - 0s 3ms/step - loss: 0.4863 - accuracy: 0.7417 - val_loss: 0.4760 - val_accuracy: 0.7650\n",
            "Epoch 9/20\n",
            "38/38 [==============================] - 0s 3ms/step - loss: 0.4826 - accuracy: 0.7550 - val_loss: 0.4745 - val_accuracy: 0.7550\n",
            "Epoch 10/20\n",
            "38/38 [==============================] - 0s 3ms/step - loss: 0.4778 - accuracy: 0.7600 - val_loss: 0.4724 - val_accuracy: 0.7500\n",
            "Epoch 11/20\n",
            "38/38 [==============================] - 0s 3ms/step - loss: 0.4740 - accuracy: 0.7633 - val_loss: 0.4721 - val_accuracy: 0.7550\n",
            "Epoch 12/20\n",
            "38/38 [==============================] - 0s 3ms/step - loss: 0.4716 - accuracy: 0.7700 - val_loss: 0.4719 - val_accuracy: 0.7500\n",
            "Epoch 13/20\n",
            "38/38 [==============================] - 0s 3ms/step - loss: 0.4688 - accuracy: 0.7717 - val_loss: 0.4710 - val_accuracy: 0.7500\n",
            "Epoch 14/20\n",
            "38/38 [==============================] - 0s 3ms/step - loss: 0.4680 - accuracy: 0.7800 - val_loss: 0.4706 - val_accuracy: 0.7500\n",
            "Epoch 15/20\n",
            "38/38 [==============================] - 0s 3ms/step - loss: 0.4642 - accuracy: 0.7767 - val_loss: 0.4701 - val_accuracy: 0.7650\n",
            "Epoch 16/20\n",
            "38/38 [==============================] - 0s 3ms/step - loss: 0.4627 - accuracy: 0.7767 - val_loss: 0.4699 - val_accuracy: 0.7700\n",
            "Epoch 17/20\n",
            "38/38 [==============================] - 0s 3ms/step - loss: 0.4592 - accuracy: 0.7867 - val_loss: 0.4701 - val_accuracy: 0.7750\n",
            "Epoch 18/20\n",
            "38/38 [==============================] - 0s 3ms/step - loss: 0.4569 - accuracy: 0.7850 - val_loss: 0.4702 - val_accuracy: 0.7700\n",
            "Epoch 19/20\n",
            "38/38 [==============================] - 0s 3ms/step - loss: 0.4553 - accuracy: 0.7850 - val_loss: 0.4690 - val_accuracy: 0.7800\n",
            "Epoch 20/20\n",
            "38/38 [==============================] - 0s 3ms/step - loss: 0.4520 - accuracy: 0.7883 - val_loss: 0.4702 - val_accuracy: 0.7850\n"
          ]
        },
        {
          "output_type": "execute_result",
          "data": {
            "text/plain": [
              "<keras.callbacks.History at 0x7f79c75e18d0>"
            ]
          },
          "metadata": {},
          "execution_count": 153
        }
      ]
    },
    {
      "cell_type": "code",
      "source": [
        "model.evaluate(x_test, y_test)"
      ],
      "metadata": {
        "colab": {
          "base_uri": "https://localhost:8080/"
        },
        "id": "hqp05qBkS_Fa",
        "outputId": "5dc85030-3905-46c9-bc10-ba4564ca52c7"
      },
      "execution_count": 154,
      "outputs": [
        {
          "output_type": "stream",
          "name": "stdout",
          "text": [
            "7/7 [==============================] - 0s 3ms/step - loss: 0.4612 - accuracy: 0.8050\n"
          ]
        },
        {
          "output_type": "execute_result",
          "data": {
            "text/plain": [
              "[0.4611673057079315, 0.8050000071525574]"
            ]
          },
          "metadata": {},
          "execution_count": 154
        }
      ]
    }
  ]
}