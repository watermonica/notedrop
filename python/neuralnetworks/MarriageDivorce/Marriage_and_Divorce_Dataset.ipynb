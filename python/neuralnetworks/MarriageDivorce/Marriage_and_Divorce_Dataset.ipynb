{
  "nbformat": 4,
  "nbformat_minor": 0,
  "metadata": {
    "colab": {
      "name": "Marriage and Divorce Dataset.ipynb",
      "provenance": []
    },
    "kernelspec": {
      "name": "python3",
      "display_name": "Python 3"
    },
    "language_info": {
      "name": "python"
    }
  },
  "cells": [
    {
      "cell_type": "code",
      "execution_count": 177,
      "metadata": {
        "id": "J8MCqDI0mqe-"
      },
      "outputs": [],
      "source": [
        "import numpy as np\n",
        "import pandas as pd\n",
        "\n",
        "import tensorflow as tf\n",
        "import tensorflow_hub as hub\n",
        "import matplotlib.pyplot as plt\n",
        "import mplcyberpunk\n",
        "import seaborn as sns\n",
        "\n",
        "from sklearn.preprocessing import StandardScaler\n",
        "from sklearn.model_selection import train_test_split\n",
        "\n",
        "from imblearn.over_sampling import RandomOverSampler"
      ]
    },
    {
      "cell_type": "code",
      "source": [
        "df = pd.read_csv('/content/Marriage_Divorce_DB.csv', usecols=['Age Gap', \n",
        "'Divorce Probability'])\n",
        "\n",
        "df.sort_values(by=['Divorce Probability'], inplace=True)\n",
        "\n",
        "df.dropna(subset=['Age Gap', \n",
        "'Divorce Probability'])\n",
        "\n",
        "df = df.rename(columns = {'Divorce Probability':'DP'})\n",
        "df = df.rename(columns = {'Age Gap':'AG'})"
      ],
      "metadata": {
        "id": "UslyvHTqm4DO"
      },
      "execution_count": 178,
      "outputs": []
    },
    {
      "cell_type": "code",
      "source": [
        "df.loc[df.DP>1.5,'Outcome']=1\n",
        "df.loc[df.DP<=1.5, 'Outcome']=0"
      ],
      "metadata": {
        "id": "QWPFBvwSnB6d"
      },
      "execution_count": 179,
      "outputs": []
    },
    {
      "cell_type": "code",
      "source": [
        "print(\"likely to stay engaged: {}\".format(len(df[df['Outcome'] == 0]))) #prints num of neg- patients\n",
        "print(\"not likely to stay engaged: {}\".format(len(df[df['Outcome'] == 1])))"
      ],
      "metadata": {
        "colab": {
          "base_uri": "https://localhost:8080/"
        },
        "id": "avsaV2I-5Zxy",
        "outputId": "83701219-50b6-4528-b6bb-96696fadb3a3"
      },
      "execution_count": 180,
      "outputs": [
        {
          "output_type": "stream",
          "name": "stdout",
          "text": [
            "likely to stay engaged: 21\n",
            "not likely to stay engaged: 79\n"
          ]
        }
      ]
    },
    {
      "cell_type": "code",
      "source": [
        "x = df[df.columns[:-1]].values\n",
        "y = df[df.columns[-1]].values"
      ],
      "metadata": {
        "id": "qN9YPvm95ueJ"
      },
      "execution_count": 184,
      "outputs": []
    },
    {
      "cell_type": "code",
      "source": [
        "scalar = StandardScaler()\n",
        "\n",
        "x = scalar.fit_transform(x)"
      ],
      "metadata": {
        "id": "inuTJ7Ob6Jig"
      },
      "execution_count": 186,
      "outputs": []
    },
    {
      "cell_type": "code",
      "source": [
        "over = RandomOverSampler()\n",
        "x, y = over.fit_resample(x,y)\n",
        "data = np.hstack((x, np.reshape(y, (-1, 1))))\n",
        "transformed_df = pd.DataFrame(data, columns=df.columns)"
      ],
      "metadata": {
        "id": "QezpJWE1sbrz"
      },
      "execution_count": 188,
      "outputs": []
    },
    {
      "cell_type": "code",
      "source": [
        "x_train, x_temp, y_train, y_temp = train_test_split(x, y, test_size=0.4, random_state = 0)\n",
        "x_valid, x_test, y_valid, y_test = train_test_split(x_temp, y_temp, test_size=0.5, random_state=0)"
      ],
      "metadata": {
        "id": "GQIK8A866TN9"
      },
      "execution_count": 189,
      "outputs": []
    },
    {
      "cell_type": "code",
      "source": [
        "model = tf.keras.Sequential([\n",
        "                              tf.keras.layers.Dense(32, activation='relu'), \n",
        "                              tf.keras.layers.Dense(32, activation='relu6'),\n",
        "                              tf.keras.layers.Dense(32, activation='tanh'),\n",
        "                              tf.keras.layers.Dense(1, activation=\"sigmoid\")\n",
        "])"
      ],
      "metadata": {
        "id": "XGL7vf0U6YeV"
      },
      "execution_count": 223,
      "outputs": []
    },
    {
      "cell_type": "code",
      "source": [
        "model.compile(\n",
        "              optimizer=tf.keras.optimizers.Adam(learning_rate=0.001),\n",
        "              loss=tf.keras.losses.BinaryCrossentropy(from_logits=True),\n",
        "              metrics=['accuracy']\n",
        ")"
      ],
      "metadata": {
        "id": "5SzXRpGS6aBw"
      },
      "execution_count": 224,
      "outputs": []
    },
    {
      "cell_type": "code",
      "source": [
        "model.evaluate(x, y)\n",
        "model.evaluate(x_train, y_train)\n",
        "model.evaluate(x_valid, y_valid)\n"
      ],
      "metadata": {
        "colab": {
          "base_uri": "https://localhost:8080/"
        },
        "id": "DG9DOvJs6bpM",
        "outputId": "6bbb7139-cf73-498f-c490-7f42a10167c1"
      },
      "execution_count": 225,
      "outputs": [
        {
          "output_type": "stream",
          "name": "stderr",
          "text": [
            "/usr/local/lib/python3.7/dist-packages/tensorflow/python/util/dispatch.py:1082: UserWarning: \"`binary_crossentropy` received `from_logits=True`, but the `output` argument was produced by a sigmoid or softmax activation and thus does not represent logits. Was this intended?\"\n",
            "  return dispatch_target(*args, **kwargs)\n"
          ]
        },
        {
          "output_type": "stream",
          "name": "stdout",
          "text": [
            "5/5 [==============================] - 1s 6ms/step - loss: 0.6355 - accuracy: 0.8924\n",
            "3/3 [==============================] - 0s 4ms/step - loss: 0.6347 - accuracy: 0.8936\n",
            "1/1 [==============================] - 0s 24ms/step - loss: 0.6408 - accuracy: 0.8750\n"
          ]
        },
        {
          "output_type": "execute_result",
          "data": {
            "text/plain": [
              "[0.6408126354217529, 0.875]"
            ]
          },
          "metadata": {},
          "execution_count": 225
        }
      ]
    },
    {
      "cell_type": "code",
      "source": [
        "history = model.fit(x_train, y_train, batch_size=16, epochs=20, validation_data=(x_valid, y_valid))"
      ],
      "metadata": {
        "colab": {
          "base_uri": "https://localhost:8080/"
        },
        "id": "8MMx_ESG6dnB",
        "outputId": "4531b3e1-a979-47e9-f60e-22241d1f4efb"
      },
      "execution_count": 226,
      "outputs": [
        {
          "output_type": "stream",
          "name": "stdout",
          "text": [
            "Epoch 1/20\n",
            "6/6 [==============================] - 1s 17ms/step - loss: 0.6113 - accuracy: 0.8723 - val_loss: 0.5813 - val_accuracy: 0.9062\n",
            "Epoch 2/20\n",
            "6/6 [==============================] - 0s 12ms/step - loss: 0.5544 - accuracy: 0.8723 - val_loss: 0.5265 - val_accuracy: 0.9062\n",
            "Epoch 3/20\n",
            "6/6 [==============================] - 0s 8ms/step - loss: 0.4978 - accuracy: 0.8617 - val_loss: 0.4694 - val_accuracy: 0.9062\n",
            "Epoch 4/20\n",
            "6/6 [==============================] - 0s 9ms/step - loss: 0.4469 - accuracy: 0.8617 - val_loss: 0.4114 - val_accuracy: 0.9062\n",
            "Epoch 5/20\n",
            "6/6 [==============================] - 0s 11ms/step - loss: 0.3977 - accuracy: 0.8723 - val_loss: 0.3583 - val_accuracy: 0.9062\n",
            "Epoch 6/20\n",
            "6/6 [==============================] - 0s 9ms/step - loss: 0.3506 - accuracy: 0.8723 - val_loss: 0.3117 - val_accuracy: 0.9062\n",
            "Epoch 7/20\n",
            "6/6 [==============================] - 0s 10ms/step - loss: 0.3130 - accuracy: 0.8723 - val_loss: 0.2712 - val_accuracy: 0.9062\n",
            "Epoch 8/20\n",
            "6/6 [==============================] - 0s 14ms/step - loss: 0.2776 - accuracy: 0.8936 - val_loss: 0.2381 - val_accuracy: 0.9375\n",
            "Epoch 9/20\n",
            "6/6 [==============================] - 0s 13ms/step - loss: 0.2486 - accuracy: 0.9043 - val_loss: 0.2101 - val_accuracy: 0.9375\n",
            "Epoch 10/20\n",
            "6/6 [==============================] - 0s 10ms/step - loss: 0.2225 - accuracy: 0.9255 - val_loss: 0.1879 - val_accuracy: 0.9688\n",
            "Epoch 11/20\n",
            "6/6 [==============================] - 0s 12ms/step - loss: 0.2016 - accuracy: 0.9255 - val_loss: 0.1683 - val_accuracy: 0.9688\n",
            "Epoch 12/20\n",
            "6/6 [==============================] - 0s 9ms/step - loss: 0.1834 - accuracy: 0.9255 - val_loss: 0.1504 - val_accuracy: 0.9688\n",
            "Epoch 13/20\n",
            "6/6 [==============================] - 0s 13ms/step - loss: 0.1663 - accuracy: 0.9468 - val_loss: 0.1369 - val_accuracy: 0.9688\n",
            "Epoch 14/20\n",
            "6/6 [==============================] - 0s 17ms/step - loss: 0.1539 - accuracy: 0.9468 - val_loss: 0.1273 - val_accuracy: 0.9688\n",
            "Epoch 15/20\n",
            "6/6 [==============================] - 0s 10ms/step - loss: 0.1417 - accuracy: 0.9574 - val_loss: 0.1169 - val_accuracy: 0.9688\n",
            "Epoch 16/20\n",
            "6/6 [==============================] - 0s 13ms/step - loss: 0.1320 - accuracy: 0.9574 - val_loss: 0.1038 - val_accuracy: 0.9688\n",
            "Epoch 17/20\n",
            "6/6 [==============================] - 0s 9ms/step - loss: 0.1215 - accuracy: 0.9681 - val_loss: 0.0963 - val_accuracy: 0.9688\n",
            "Epoch 18/20\n",
            "6/6 [==============================] - 0s 12ms/step - loss: 0.1133 - accuracy: 0.9681 - val_loss: 0.0885 - val_accuracy: 0.9688\n",
            "Epoch 19/20\n",
            "6/6 [==============================] - 0s 10ms/step - loss: 0.1061 - accuracy: 0.9681 - val_loss: 0.0851 - val_accuracy: 0.9688\n",
            "Epoch 20/20\n",
            "6/6 [==============================] - 0s 10ms/step - loss: 0.0989 - accuracy: 0.9787 - val_loss: 0.0785 - val_accuracy: 0.9688\n"
          ]
        }
      ]
    },
    {
      "cell_type": "code",
      "source": [
        "model.evaluate(x_test, y_test)"
      ],
      "metadata": {
        "colab": {
          "base_uri": "https://localhost:8080/"
        },
        "id": "kejUkvYw6g1Z",
        "outputId": "c8ac8239-5329-4da3-d4b2-ac8bad3f65f7"
      },
      "execution_count": 227,
      "outputs": [
        {
          "output_type": "stream",
          "name": "stdout",
          "text": [
            "1/1 [==============================] - 0s 28ms/step - loss: 0.1624 - accuracy: 0.9375\n"
          ]
        },
        {
          "output_type": "execute_result",
          "data": {
            "text/plain": [
              "[0.1624007523059845, 0.9375]"
            ]
          },
          "metadata": {},
          "execution_count": 227
        }
      ]
    },
    {
      "cell_type": "code",
      "source": [
        "acc = history.history['accuracy']\n",
        "loss = history.history['loss']"
      ],
      "metadata": {
        "id": "j2pvD8_C7fpq"
      },
      "execution_count": 228,
      "outputs": []
    },
    {
      "cell_type": "code",
      "source": [
        "plt.figure(figsize=(12, 6))\n",
        "plt.style.use('cyberpunk')\n",
        "plt.subplot(1, 2, 1)\n",
        "plt.plot(acc, label='Training Acc')\n",
        "plt.title('Training Acc')\n",
        "plt.legend()\n",
        "mplcyberpunk.add_glow_effects()"
      ],
      "metadata": {
        "colab": {
          "base_uri": "https://localhost:8080/",
          "height": 386
        },
        "id": "QeKILGiZ75Ms",
        "outputId": "c622b3e7-d1f4-4760-95b5-2f2d4813630f"
      },
      "execution_count": 229,
      "outputs": [
        {
          "output_type": "display_data",
          "data": {
            "text/plain": [
              "<Figure size 864x432 with 1 Axes>"
            ],
            "image/png": "[encoded data removed]"
          },
          "metadata": {}
        }
      ]
    },
    {
      "cell_type": "code",
      "source": [
        "plt.subplot(1, 2, 2)\n",
        "plt.plot(loss, label='Training Loss')\n",
        "plt.title('Training Loss')\n",
        "plt.legend()\n",
        "mplcyberpunk.add_glow_effects()\n",
        "plt.show()"
      ],
      "metadata": {
        "colab": {
          "base_uri": "https://localhost:8080/",
          "height": 277
        },
        "id": "b7Gip1BZ77SC",
        "outputId": "97204565-1e34-4c72-c33f-eb02b1f3e818"
      },
      "execution_count": 230,
      "outputs": [
        {
          "output_type": "display_data",
          "data": {
            "text/plain": [
              "<Figure size 432x288 with 1 Axes>"
            ],
            "image/png": "[encoded data removed]"
          },
          "metadata": {}
        }
      ]
    },
    {
      "cell_type": "code",
      "source": [
        ""
      ],
      "metadata": {
        "id": "-F69F8_k7_f7"
      },
      "execution_count": null,
      "outputs": []
    }
  ]
}